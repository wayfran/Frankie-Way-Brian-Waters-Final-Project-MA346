{
 "cells": [
  {
   "cell_type": "code",
   "execution_count": 73,
   "metadata": {},
   "outputs": [],
   "source": [
    "import pandas as pd\n",
    "import matplotlib.pyplot as plt"
   ]
  },
  {
   "cell_type": "markdown",
   "metadata": {},
   "source": [
    "Import the Required packages, pandas and matplotlib. These packages will be used later in the code to help us construct the data frame and create visuals to see distributions of crime data."
   ]
  },
  {
   "cell_type": "code",
   "execution_count": 74,
   "metadata": {},
   "outputs": [],
   "source": [
    "df = pd.read_csv(\"ucr_crime_1975_2015.csv\")"
   ]
  },
  {
   "cell_type": "markdown",
   "metadata": {},
   "source": [
    "Read in the data set as a pandas data frame. Call it df for simplicity."
   ]
  },
  {
   "cell_type": "code",
   "execution_count": 75,
   "metadata": {},
   "outputs": [
    {
     "data": {
      "text/html": [
       "<div>\n",
       "<style scoped>\n",
       "    .dataframe tbody tr th:only-of-type {\n",
       "        vertical-align: middle;\n",
       "    }\n",
       "\n",
       "    .dataframe tbody tr th {\n",
       "        vertical-align: top;\n",
       "    }\n",
       "\n",
       "    .dataframe thead th {\n",
       "        text-align: right;\n",
       "    }\n",
       "</style>\n",
       "<table border=\"1\" class=\"dataframe\">\n",
       "  <thead>\n",
       "    <tr style=\"text-align: right;\">\n",
       "      <th></th>\n",
       "      <th>ORI</th>\n",
       "      <th>year</th>\n",
       "      <th>department_name</th>\n",
       "      <th>total_pop</th>\n",
       "      <th>homs_sum</th>\n",
       "      <th>rape_sum</th>\n",
       "      <th>rob_sum</th>\n",
       "      <th>agg_ass_sum</th>\n",
       "      <th>violent_crime</th>\n",
       "      <th>months_reported</th>\n",
       "      <th>violent_per_100k</th>\n",
       "      <th>homs_per_100k</th>\n",
       "      <th>rape_per_100k</th>\n",
       "      <th>rob_per_100k</th>\n",
       "      <th>agg_ass_per_100k</th>\n",
       "      <th>source</th>\n",
       "      <th>url</th>\n",
       "    </tr>\n",
       "  </thead>\n",
       "  <tbody>\n",
       "    <tr>\n",
       "      <th>0</th>\n",
       "      <td>NM00101</td>\n",
       "      <td>1975</td>\n",
       "      <td>Albuquerque, N.M.</td>\n",
       "      <td>286238.0</td>\n",
       "      <td>30.0</td>\n",
       "      <td>181.0</td>\n",
       "      <td>819.0</td>\n",
       "      <td>1353.0</td>\n",
       "      <td>2383.0</td>\n",
       "      <td>12.0</td>\n",
       "      <td>832.523984</td>\n",
       "      <td>10.480789</td>\n",
       "      <td>63.234092</td>\n",
       "      <td>286.125532</td>\n",
       "      <td>472.683571</td>\n",
       "      <td>NaN</td>\n",
       "      <td>NaN</td>\n",
       "    </tr>\n",
       "    <tr>\n",
       "      <th>1</th>\n",
       "      <td>TX22001</td>\n",
       "      <td>1975</td>\n",
       "      <td>Arlington, Texas</td>\n",
       "      <td>112478.0</td>\n",
       "      <td>5.0</td>\n",
       "      <td>28.0</td>\n",
       "      <td>113.0</td>\n",
       "      <td>132.0</td>\n",
       "      <td>278.0</td>\n",
       "      <td>12.0</td>\n",
       "      <td>247.159445</td>\n",
       "      <td>4.445314</td>\n",
       "      <td>24.893757</td>\n",
       "      <td>100.464091</td>\n",
       "      <td>117.356283</td>\n",
       "      <td>NaN</td>\n",
       "      <td>NaN</td>\n",
       "    </tr>\n",
       "    <tr>\n",
       "      <th>2</th>\n",
       "      <td>GAAPD00</td>\n",
       "      <td>1975</td>\n",
       "      <td>Atlanta</td>\n",
       "      <td>490584.0</td>\n",
       "      <td>185.0</td>\n",
       "      <td>443.0</td>\n",
       "      <td>3887.0</td>\n",
       "      <td>3518.0</td>\n",
       "      <td>8033.0</td>\n",
       "      <td>12.0</td>\n",
       "      <td>1637.436198</td>\n",
       "      <td>37.710158</td>\n",
       "      <td>90.300540</td>\n",
       "      <td>792.320989</td>\n",
       "      <td>717.104512</td>\n",
       "      <td>NaN</td>\n",
       "      <td>NaN</td>\n",
       "    </tr>\n",
       "    <tr>\n",
       "      <th>3</th>\n",
       "      <td>CO00101</td>\n",
       "      <td>1975</td>\n",
       "      <td>Aurora, Colo.</td>\n",
       "      <td>116656.0</td>\n",
       "      <td>7.0</td>\n",
       "      <td>44.0</td>\n",
       "      <td>171.0</td>\n",
       "      <td>389.0</td>\n",
       "      <td>611.0</td>\n",
       "      <td>12.0</td>\n",
       "      <td>523.762173</td>\n",
       "      <td>6.000549</td>\n",
       "      <td>37.717734</td>\n",
       "      <td>146.584831</td>\n",
       "      <td>333.459059</td>\n",
       "      <td>NaN</td>\n",
       "      <td>NaN</td>\n",
       "    </tr>\n",
       "    <tr>\n",
       "      <th>4</th>\n",
       "      <td>TX22701</td>\n",
       "      <td>1975</td>\n",
       "      <td>Austin, Texas</td>\n",
       "      <td>300400.0</td>\n",
       "      <td>33.0</td>\n",
       "      <td>190.0</td>\n",
       "      <td>529.0</td>\n",
       "      <td>463.0</td>\n",
       "      <td>1215.0</td>\n",
       "      <td>12.0</td>\n",
       "      <td>404.460719</td>\n",
       "      <td>10.985353</td>\n",
       "      <td>63.249001</td>\n",
       "      <td>176.098535</td>\n",
       "      <td>154.127830</td>\n",
       "      <td>NaN</td>\n",
       "      <td>NaN</td>\n",
       "    </tr>\n",
       "  </tbody>\n",
       "</table>\n",
       "</div>"
      ],
      "text/plain": [
       "       ORI  year    department_name  total_pop  homs_sum  rape_sum  rob_sum  \\\n",
       "0  NM00101  1975  Albuquerque, N.M.   286238.0      30.0     181.0    819.0   \n",
       "1  TX22001  1975   Arlington, Texas   112478.0       5.0      28.0    113.0   \n",
       "2  GAAPD00  1975            Atlanta   490584.0     185.0     443.0   3887.0   \n",
       "3  CO00101  1975      Aurora, Colo.   116656.0       7.0      44.0    171.0   \n",
       "4  TX22701  1975      Austin, Texas   300400.0      33.0     190.0    529.0   \n",
       "\n",
       "   agg_ass_sum  violent_crime  months_reported  violent_per_100k  \\\n",
       "0       1353.0         2383.0             12.0        832.523984   \n",
       "1        132.0          278.0             12.0        247.159445   \n",
       "2       3518.0         8033.0             12.0       1637.436198   \n",
       "3        389.0          611.0             12.0        523.762173   \n",
       "4        463.0         1215.0             12.0        404.460719   \n",
       "\n",
       "   homs_per_100k  rape_per_100k  rob_per_100k  agg_ass_per_100k source  url  \n",
       "0      10.480789      63.234092    286.125532        472.683571    NaN  NaN  \n",
       "1       4.445314      24.893757    100.464091        117.356283    NaN  NaN  \n",
       "2      37.710158      90.300540    792.320989        717.104512    NaN  NaN  \n",
       "3       6.000549      37.717734    146.584831        333.459059    NaN  NaN  \n",
       "4      10.985353      63.249001    176.098535        154.127830    NaN  NaN  "
      ]
     },
     "execution_count": 75,
     "metadata": {},
     "output_type": "execute_result"
    }
   ],
   "source": [
    "df.head()"
   ]
  },
  {
   "cell_type": "markdown",
   "metadata": {},
   "source": [
    "An important step is taking a look at the initial data frame. From this block of code a user can inspect the first 5 rows of the data and check for any issues that may need to be addressed. From this view, it seems as though everything is ok. We can now move on and shape the data the way we need to, in order to isolate the cities we want to look at (Boston, New York, Philadelphia, and Washington, D.C.)."
   ]
  },
  {
   "cell_type": "code",
   "execution_count": 76,
   "metadata": {},
   "outputs": [
    {
     "data": {
      "text/html": [
       "<div>\n",
       "<style scoped>\n",
       "    .dataframe tbody tr th:only-of-type {\n",
       "        vertical-align: middle;\n",
       "    }\n",
       "\n",
       "    .dataframe tbody tr th {\n",
       "        vertical-align: top;\n",
       "    }\n",
       "\n",
       "    .dataframe thead th {\n",
       "        text-align: right;\n",
       "    }\n",
       "</style>\n",
       "<table border=\"1\" class=\"dataframe\">\n",
       "  <thead>\n",
       "    <tr style=\"text-align: right;\">\n",
       "      <th></th>\n",
       "      <th>ORI</th>\n",
       "      <th>year</th>\n",
       "      <th>department_name</th>\n",
       "      <th>total_pop</th>\n",
       "      <th>homs_sum</th>\n",
       "      <th>rape_sum</th>\n",
       "      <th>rob_sum</th>\n",
       "      <th>agg_ass_sum</th>\n",
       "      <th>violent_crime</th>\n",
       "      <th>months_reported</th>\n",
       "      <th>violent_per_100k</th>\n",
       "      <th>homs_per_100k</th>\n",
       "      <th>rape_per_100k</th>\n",
       "      <th>rob_per_100k</th>\n",
       "      <th>agg_ass_per_100k</th>\n",
       "      <th>source</th>\n",
       "      <th>url</th>\n",
       "    </tr>\n",
       "  </thead>\n",
       "  <tbody>\n",
       "    <tr>\n",
       "      <th>0</th>\n",
       "      <td>NM00101</td>\n",
       "      <td>1975</td>\n",
       "      <td>Albuquerque, N.M.</td>\n",
       "      <td>286238.0</td>\n",
       "      <td>30.0</td>\n",
       "      <td>181.0</td>\n",
       "      <td>819.0</td>\n",
       "      <td>1353.0</td>\n",
       "      <td>2383.0</td>\n",
       "      <td>12.0</td>\n",
       "      <td>832.523984</td>\n",
       "      <td>10.480789</td>\n",
       "      <td>63.234092</td>\n",
       "      <td>286.125532</td>\n",
       "      <td>472.683571</td>\n",
       "      <td>NaN</td>\n",
       "      <td>NaN</td>\n",
       "    </tr>\n",
       "    <tr>\n",
       "      <th>483</th>\n",
       "      <td>NM00101</td>\n",
       "      <td>1982</td>\n",
       "      <td>Albuquerque, N.M.</td>\n",
       "      <td>344962.0</td>\n",
       "      <td>26.0</td>\n",
       "      <td>199.0</td>\n",
       "      <td>926.0</td>\n",
       "      <td>1508.0</td>\n",
       "      <td>2659.0</td>\n",
       "      <td>12.0</td>\n",
       "      <td>770.809538</td>\n",
       "      <td>7.537062</td>\n",
       "      <td>57.687513</td>\n",
       "      <td>268.435364</td>\n",
       "      <td>437.149599</td>\n",
       "      <td>NaN</td>\n",
       "      <td>NaN</td>\n",
       "    </tr>\n",
       "    <tr>\n",
       "      <th>2415</th>\n",
       "      <td>NM00101</td>\n",
       "      <td>2010</td>\n",
       "      <td>Albuquerque, N.M.</td>\n",
       "      <td>545852.0</td>\n",
       "      <td>42.0</td>\n",
       "      <td>338.0</td>\n",
       "      <td>940.0</td>\n",
       "      <td>2971.0</td>\n",
       "      <td>4291.0</td>\n",
       "      <td>12.0</td>\n",
       "      <td>786.110521</td>\n",
       "      <td>7.694393</td>\n",
       "      <td>61.921546</td>\n",
       "      <td>172.207851</td>\n",
       "      <td>544.286730</td>\n",
       "      <td>NaN</td>\n",
       "      <td>NaN</td>\n",
       "    </tr>\n",
       "    <tr>\n",
       "      <th>414</th>\n",
       "      <td>NM00101</td>\n",
       "      <td>1981</td>\n",
       "      <td>Albuquerque, N.M.</td>\n",
       "      <td>336840.0</td>\n",
       "      <td>45.0</td>\n",
       "      <td>213.0</td>\n",
       "      <td>1107.0</td>\n",
       "      <td>1620.0</td>\n",
       "      <td>2985.0</td>\n",
       "      <td>12.0</td>\n",
       "      <td>886.177414</td>\n",
       "      <td>13.359458</td>\n",
       "      <td>63.234770</td>\n",
       "      <td>328.642679</td>\n",
       "      <td>480.940506</td>\n",
       "      <td>NaN</td>\n",
       "      <td>NaN</td>\n",
       "    </tr>\n",
       "    <tr>\n",
       "      <th>2001</th>\n",
       "      <td>NM00101</td>\n",
       "      <td>2004</td>\n",
       "      <td>Albuquerque, N.M.</td>\n",
       "      <td>479074.0</td>\n",
       "      <td>41.0</td>\n",
       "      <td>235.0</td>\n",
       "      <td>1238.0</td>\n",
       "      <td>3206.0</td>\n",
       "      <td>4720.0</td>\n",
       "      <td>12.0</td>\n",
       "      <td>985.234014</td>\n",
       "      <td>8.558177</td>\n",
       "      <td>49.052965</td>\n",
       "      <td>258.415193</td>\n",
       "      <td>669.207680</td>\n",
       "      <td>NaN</td>\n",
       "      <td>NaN</td>\n",
       "    </tr>\n",
       "    <tr>\n",
       "      <th>...</th>\n",
       "      <td>...</td>\n",
       "      <td>...</td>\n",
       "      <td>...</td>\n",
       "      <td>...</td>\n",
       "      <td>...</td>\n",
       "      <td>...</td>\n",
       "      <td>...</td>\n",
       "      <td>...</td>\n",
       "      <td>...</td>\n",
       "      <td>...</td>\n",
       "      <td>...</td>\n",
       "      <td>...</td>\n",
       "      <td>...</td>\n",
       "      <td>...</td>\n",
       "      <td>...</td>\n",
       "      <td>...</td>\n",
       "      <td>...</td>\n",
       "    </tr>\n",
       "    <tr>\n",
       "      <th>68</th>\n",
       "      <td>KS08703</td>\n",
       "      <td>1975</td>\n",
       "      <td>Wichita, Kan.</td>\n",
       "      <td>259240.0</td>\n",
       "      <td>36.0</td>\n",
       "      <td>53.0</td>\n",
       "      <td>640.0</td>\n",
       "      <td>408.0</td>\n",
       "      <td>1137.0</td>\n",
       "      <td>12.0</td>\n",
       "      <td>438.589724</td>\n",
       "      <td>13.886746</td>\n",
       "      <td>20.444376</td>\n",
       "      <td>246.875482</td>\n",
       "      <td>157.383120</td>\n",
       "      <td>NaN</td>\n",
       "      <td>NaN</td>\n",
       "    </tr>\n",
       "    <tr>\n",
       "      <th>482</th>\n",
       "      <td>KS08703</td>\n",
       "      <td>1981</td>\n",
       "      <td>Wichita, Kan.</td>\n",
       "      <td>282465.0</td>\n",
       "      <td>43.0</td>\n",
       "      <td>202.0</td>\n",
       "      <td>816.0</td>\n",
       "      <td>668.0</td>\n",
       "      <td>1729.0</td>\n",
       "      <td>12.0</td>\n",
       "      <td>612.111235</td>\n",
       "      <td>15.223125</td>\n",
       "      <td>71.513285</td>\n",
       "      <td>288.885349</td>\n",
       "      <td>236.489477</td>\n",
       "      <td>NaN</td>\n",
       "      <td>NaN</td>\n",
       "    </tr>\n",
       "    <tr>\n",
       "      <th>2345</th>\n",
       "      <td>KS08703</td>\n",
       "      <td>2008</td>\n",
       "      <td>Wichita, Kan.</td>\n",
       "      <td>362602.0</td>\n",
       "      <td>30.0</td>\n",
       "      <td>282.0</td>\n",
       "      <td>482.0</td>\n",
       "      <td>2303.0</td>\n",
       "      <td>3097.0</td>\n",
       "      <td>12.0</td>\n",
       "      <td>854.104500</td>\n",
       "      <td>8.273534</td>\n",
       "      <td>77.771220</td>\n",
       "      <td>132.928114</td>\n",
       "      <td>635.131632</td>\n",
       "      <td>NaN</td>\n",
       "      <td>NaN</td>\n",
       "    </tr>\n",
       "    <tr>\n",
       "      <th>965</th>\n",
       "      <td>KS08703</td>\n",
       "      <td>1988</td>\n",
       "      <td>Wichita, Kan.</td>\n",
       "      <td>292733.0</td>\n",
       "      <td>15.0</td>\n",
       "      <td>238.0</td>\n",
       "      <td>628.0</td>\n",
       "      <td>774.0</td>\n",
       "      <td>1655.0</td>\n",
       "      <td>12.0</td>\n",
       "      <td>565.361609</td>\n",
       "      <td>5.124123</td>\n",
       "      <td>81.302757</td>\n",
       "      <td>214.529964</td>\n",
       "      <td>264.404765</td>\n",
       "      <td>NaN</td>\n",
       "      <td>NaN</td>\n",
       "    </tr>\n",
       "    <tr>\n",
       "      <th>2828</th>\n",
       "      <td>KS08703</td>\n",
       "      <td>2015</td>\n",
       "      <td>Wichita, Kan.</td>\n",
       "      <td>389824.0</td>\n",
       "      <td>27.0</td>\n",
       "      <td>349.0</td>\n",
       "      <td>733.0</td>\n",
       "      <td>2730.0</td>\n",
       "      <td>3839.0</td>\n",
       "      <td>NaN</td>\n",
       "      <td>984.803398</td>\n",
       "      <td>6.926203</td>\n",
       "      <td>89.527582</td>\n",
       "      <td>188.033574</td>\n",
       "      <td>700.316040</td>\n",
       "      <td>Crime in the U.S. 2015</td>\n",
       "      <td>https://ucr.fbi.gov/crime-in-the-u.s/2015/crim...</td>\n",
       "    </tr>\n",
       "  </tbody>\n",
       "</table>\n",
       "<p>2829 rows × 17 columns</p>\n",
       "</div>"
      ],
      "text/plain": [
       "          ORI  year    department_name  total_pop  homs_sum  rape_sum  \\\n",
       "0     NM00101  1975  Albuquerque, N.M.   286238.0      30.0     181.0   \n",
       "483   NM00101  1982  Albuquerque, N.M.   344962.0      26.0     199.0   \n",
       "2415  NM00101  2010  Albuquerque, N.M.   545852.0      42.0     338.0   \n",
       "414   NM00101  1981  Albuquerque, N.M.   336840.0      45.0     213.0   \n",
       "2001  NM00101  2004  Albuquerque, N.M.   479074.0      41.0     235.0   \n",
       "...       ...   ...                ...        ...       ...       ...   \n",
       "68    KS08703  1975      Wichita, Kan.   259240.0      36.0      53.0   \n",
       "482   KS08703  1981      Wichita, Kan.   282465.0      43.0     202.0   \n",
       "2345  KS08703  2008      Wichita, Kan.   362602.0      30.0     282.0   \n",
       "965   KS08703  1988      Wichita, Kan.   292733.0      15.0     238.0   \n",
       "2828  KS08703  2015      Wichita, Kan.   389824.0      27.0     349.0   \n",
       "\n",
       "      rob_sum  agg_ass_sum  violent_crime  months_reported  violent_per_100k  \\\n",
       "0       819.0       1353.0         2383.0             12.0        832.523984   \n",
       "483     926.0       1508.0         2659.0             12.0        770.809538   \n",
       "2415    940.0       2971.0         4291.0             12.0        786.110521   \n",
       "414    1107.0       1620.0         2985.0             12.0        886.177414   \n",
       "2001   1238.0       3206.0         4720.0             12.0        985.234014   \n",
       "...       ...          ...            ...              ...               ...   \n",
       "68      640.0        408.0         1137.0             12.0        438.589724   \n",
       "482     816.0        668.0         1729.0             12.0        612.111235   \n",
       "2345    482.0       2303.0         3097.0             12.0        854.104500   \n",
       "965     628.0        774.0         1655.0             12.0        565.361609   \n",
       "2828    733.0       2730.0         3839.0              NaN        984.803398   \n",
       "\n",
       "      homs_per_100k  rape_per_100k  rob_per_100k  agg_ass_per_100k  \\\n",
       "0         10.480789      63.234092    286.125532        472.683571   \n",
       "483        7.537062      57.687513    268.435364        437.149599   \n",
       "2415       7.694393      61.921546    172.207851        544.286730   \n",
       "414       13.359458      63.234770    328.642679        480.940506   \n",
       "2001       8.558177      49.052965    258.415193        669.207680   \n",
       "...             ...            ...           ...               ...   \n",
       "68        13.886746      20.444376    246.875482        157.383120   \n",
       "482       15.223125      71.513285    288.885349        236.489477   \n",
       "2345       8.273534      77.771220    132.928114        635.131632   \n",
       "965        5.124123      81.302757    214.529964        264.404765   \n",
       "2828       6.926203      89.527582    188.033574        700.316040   \n",
       "\n",
       "                      source  \\\n",
       "0                        NaN   \n",
       "483                      NaN   \n",
       "2415                     NaN   \n",
       "414                      NaN   \n",
       "2001                     NaN   \n",
       "...                      ...   \n",
       "68                       NaN   \n",
       "482                      NaN   \n",
       "2345                     NaN   \n",
       "965                      NaN   \n",
       "2828  Crime in the U.S. 2015   \n",
       "\n",
       "                                                    url  \n",
       "0                                                   NaN  \n",
       "483                                                 NaN  \n",
       "2415                                                NaN  \n",
       "414                                                 NaN  \n",
       "2001                                                NaN  \n",
       "...                                                 ...  \n",
       "68                                                  NaN  \n",
       "482                                                 NaN  \n",
       "2345                                                NaN  \n",
       "965                                                 NaN  \n",
       "2828  https://ucr.fbi.gov/crime-in-the-u.s/2015/crim...  \n",
       "\n",
       "[2829 rows x 17 columns]"
      ]
     },
     "execution_count": 76,
     "metadata": {},
     "output_type": "execute_result"
    }
   ],
   "source": [
    "df.sort_values(['department_name'])"
   ]
  },
  {
   "cell_type": "markdown",
   "metadata": {},
   "source": [
    "The block of code above is an important step in getting the data set ready for evaluation. Sorting the data frame by value in the state column allows us to see the code by city police department and can easily be broken down further from there in future steps. This will help us achieve our goal of seeing crime rate by city over the period 1975-2015."
   ]
  },
  {
   "cell_type": "code",
   "execution_count": 77,
   "metadata": {},
   "outputs": [],
   "source": [
    "Boston_bool = df['department_name']=='Boston'"
   ]
  },
  {
   "cell_type": "markdown",
   "metadata": {},
   "source": [
    "Now that the data frame has been sorted, we need to isolate the four cities we wish to analyze, first of which is Boston. The above code creates a boolean variable based on the variable \"department name\", specifically, if that variable is written as \"Boston\". This will help us create a subset of the original data frame, but only for those observations from the Boston Police Department."
   ]
  },
  {
   "cell_type": "code",
   "execution_count": 78,
   "metadata": {},
   "outputs": [
    {
     "name": "stdout",
     "output_type": "stream",
     "text": [
      "0    False\n",
      "1    False\n",
      "2    False\n",
      "3    False\n",
      "4    False\n",
      "Name: department_name, dtype: bool\n"
     ]
    }
   ],
   "source": [
    "print(Boston_bool.head())"
   ]
  },
  {
   "cell_type": "markdown",
   "metadata": {},
   "source": [
    "This code is used as a check to the previous line to make sure the code executed properly. We can see from the sorted data set above that the first 5 observations are from Albuquerque, N.M., so we should expect every output listed here to be false. It has been implemented properly."
   ]
  },
  {
   "cell_type": "code",
   "execution_count": 79,
   "metadata": {},
   "outputs": [],
   "source": [
    "BOS = df[Boston_bool]"
   ]
  },
  {
   "cell_type": "markdown",
   "metadata": {},
   "source": [
    "Finally, the above code is used to make the data frame for Boston variables. This is the final data frame that will be used in our analysis of Boston crime rates."
   ]
  },
  {
   "cell_type": "code",
   "execution_count": 80,
   "metadata": {},
   "outputs": [
    {
     "data": {
      "text/html": [
       "<div>\n",
       "<style scoped>\n",
       "    .dataframe tbody tr th:only-of-type {\n",
       "        vertical-align: middle;\n",
       "    }\n",
       "\n",
       "    .dataframe tbody tr th {\n",
       "        vertical-align: top;\n",
       "    }\n",
       "\n",
       "    .dataframe thead th {\n",
       "        text-align: right;\n",
       "    }\n",
       "</style>\n",
       "<table border=\"1\" class=\"dataframe\">\n",
       "  <thead>\n",
       "    <tr style=\"text-align: right;\">\n",
       "      <th></th>\n",
       "      <th>ORI</th>\n",
       "      <th>year</th>\n",
       "      <th>department_name</th>\n",
       "      <th>total_pop</th>\n",
       "      <th>homs_sum</th>\n",
       "      <th>rape_sum</th>\n",
       "      <th>rob_sum</th>\n",
       "      <th>agg_ass_sum</th>\n",
       "      <th>violent_crime</th>\n",
       "      <th>months_reported</th>\n",
       "      <th>violent_per_100k</th>\n",
       "      <th>homs_per_100k</th>\n",
       "      <th>rape_per_100k</th>\n",
       "      <th>rob_per_100k</th>\n",
       "      <th>agg_ass_per_100k</th>\n",
       "      <th>source</th>\n",
       "      <th>url</th>\n",
       "    </tr>\n",
       "  </thead>\n",
       "  <tbody>\n",
       "    <tr>\n",
       "      <th>7</th>\n",
       "      <td>MA01301</td>\n",
       "      <td>1975</td>\n",
       "      <td>Boston</td>\n",
       "      <td>616120.0</td>\n",
       "      <td>119.0</td>\n",
       "      <td>453.0</td>\n",
       "      <td>7778.0</td>\n",
       "      <td>3036.0</td>\n",
       "      <td>11386.0</td>\n",
       "      <td>12.0</td>\n",
       "      <td>1848.016620</td>\n",
       "      <td>19.314419</td>\n",
       "      <td>73.524638</td>\n",
       "      <td>1262.416412</td>\n",
       "      <td>492.761150</td>\n",
       "      <td>NaN</td>\n",
       "      <td>NaN</td>\n",
       "    </tr>\n",
       "    <tr>\n",
       "      <th>76</th>\n",
       "      <td>MA01301</td>\n",
       "      <td>1976</td>\n",
       "      <td>Boston</td>\n",
       "      <td>619437.0</td>\n",
       "      <td>81.0</td>\n",
       "      <td>392.0</td>\n",
       "      <td>6125.0</td>\n",
       "      <td>3290.0</td>\n",
       "      <td>9888.0</td>\n",
       "      <td>12.0</td>\n",
       "      <td>1596.288242</td>\n",
       "      <td>13.076390</td>\n",
       "      <td>63.283272</td>\n",
       "      <td>988.801121</td>\n",
       "      <td>531.127459</td>\n",
       "      <td>NaN</td>\n",
       "      <td>NaN</td>\n",
       "    </tr>\n",
       "    <tr>\n",
       "      <th>145</th>\n",
       "      <td>MA01301</td>\n",
       "      <td>1977</td>\n",
       "      <td>Boston</td>\n",
       "      <td>619321.0</td>\n",
       "      <td>75.0</td>\n",
       "      <td>408.0</td>\n",
       "      <td>5655.0</td>\n",
       "      <td>3284.0</td>\n",
       "      <td>9422.0</td>\n",
       "      <td>12.0</td>\n",
       "      <td>1521.343536</td>\n",
       "      <td>12.110037</td>\n",
       "      <td>65.878599</td>\n",
       "      <td>913.096762</td>\n",
       "      <td>530.258138</td>\n",
       "      <td>NaN</td>\n",
       "      <td>NaN</td>\n",
       "    </tr>\n",
       "    <tr>\n",
       "      <th>214</th>\n",
       "      <td>MA01301</td>\n",
       "      <td>1978</td>\n",
       "      <td>Boston</td>\n",
       "      <td>616225.0</td>\n",
       "      <td>72.0</td>\n",
       "      <td>475.0</td>\n",
       "      <td>5635.0</td>\n",
       "      <td>3853.0</td>\n",
       "      <td>10035.0</td>\n",
       "      <td>12.0</td>\n",
       "      <td>1628.463629</td>\n",
       "      <td>11.684044</td>\n",
       "      <td>77.082235</td>\n",
       "      <td>914.438720</td>\n",
       "      <td>625.258631</td>\n",
       "      <td>NaN</td>\n",
       "      <td>NaN</td>\n",
       "    </tr>\n",
       "    <tr>\n",
       "      <th>283</th>\n",
       "      <td>MA01301</td>\n",
       "      <td>1979</td>\n",
       "      <td>Boston</td>\n",
       "      <td>599582.0</td>\n",
       "      <td>92.0</td>\n",
       "      <td>464.0</td>\n",
       "      <td>6600.0</td>\n",
       "      <td>4236.0</td>\n",
       "      <td>11392.0</td>\n",
       "      <td>12.0</td>\n",
       "      <td>1899.990327</td>\n",
       "      <td>15.344023</td>\n",
       "      <td>77.387246</td>\n",
       "      <td>1100.766868</td>\n",
       "      <td>706.492190</td>\n",
       "      <td>NaN</td>\n",
       "      <td>NaN</td>\n",
       "    </tr>\n",
       "  </tbody>\n",
       "</table>\n",
       "</div>"
      ],
      "text/plain": [
       "         ORI  year department_name  total_pop  homs_sum  rape_sum  rob_sum  \\\n",
       "7    MA01301  1975          Boston   616120.0     119.0     453.0   7778.0   \n",
       "76   MA01301  1976          Boston   619437.0      81.0     392.0   6125.0   \n",
       "145  MA01301  1977          Boston   619321.0      75.0     408.0   5655.0   \n",
       "214  MA01301  1978          Boston   616225.0      72.0     475.0   5635.0   \n",
       "283  MA01301  1979          Boston   599582.0      92.0     464.0   6600.0   \n",
       "\n",
       "     agg_ass_sum  violent_crime  months_reported  violent_per_100k  \\\n",
       "7         3036.0        11386.0             12.0       1848.016620   \n",
       "76        3290.0         9888.0             12.0       1596.288242   \n",
       "145       3284.0         9422.0             12.0       1521.343536   \n",
       "214       3853.0        10035.0             12.0       1628.463629   \n",
       "283       4236.0        11392.0             12.0       1899.990327   \n",
       "\n",
       "     homs_per_100k  rape_per_100k  rob_per_100k  agg_ass_per_100k source  url  \n",
       "7        19.314419      73.524638   1262.416412        492.761150    NaN  NaN  \n",
       "76       13.076390      63.283272    988.801121        531.127459    NaN  NaN  \n",
       "145      12.110037      65.878599    913.096762        530.258138    NaN  NaN  \n",
       "214      11.684044      77.082235    914.438720        625.258631    NaN  NaN  \n",
       "283      15.344023      77.387246   1100.766868        706.492190    NaN  NaN  "
      ]
     },
     "execution_count": 80,
     "metadata": {},
     "output_type": "execute_result"
    }
   ],
   "source": [
    "BOS.head()"
   ]
  },
  {
   "cell_type": "markdown",
   "metadata": {},
   "source": [
    "Inspect the polished Boston data frame for any errors. It appears as though everything is in order and we can proceed, but we are only looking at 5 observations. We should check that all 41 are present and there were no errors with initial entry (we should check to make sure there were no entries that were listed as Boston, M.A., for example)."
   ]
  },
  {
   "cell_type": "code",
   "execution_count": 81,
   "metadata": {},
   "outputs": [
    {
     "name": "stdout",
     "output_type": "stream",
     "text": [
      "<class 'pandas.core.frame.DataFrame'>\n",
      "Int64Index: 41 entries, 7 to 2767\n",
      "Data columns (total 17 columns):\n",
      " #   Column            Non-Null Count  Dtype  \n",
      "---  ------            --------------  -----  \n",
      " 0   ORI               41 non-null     object \n",
      " 1   year              41 non-null     int64  \n",
      " 2   department_name   41 non-null     object \n",
      " 3   total_pop         41 non-null     float64\n",
      " 4   homs_sum          41 non-null     float64\n",
      " 5   rape_sum          41 non-null     float64\n",
      " 6   rob_sum           41 non-null     float64\n",
      " 7   agg_ass_sum       41 non-null     float64\n",
      " 8   violent_crime     41 non-null     float64\n",
      " 9   months_reported   40 non-null     float64\n",
      " 10  violent_per_100k  41 non-null     float64\n",
      " 11  homs_per_100k     41 non-null     float64\n",
      " 12  rape_per_100k     41 non-null     float64\n",
      " 13  rob_per_100k      41 non-null     float64\n",
      " 14  agg_ass_per_100k  41 non-null     float64\n",
      " 15  source            1 non-null      object \n",
      " 16  url               1 non-null      object \n",
      "dtypes: float64(12), int64(1), object(4)\n",
      "memory usage: 5.8+ KB\n"
     ]
    }
   ],
   "source": [
    "BOS.info()"
   ]
  },
  {
   "cell_type": "markdown",
   "metadata": {},
   "source": [
    "As you can see, there are 41 observations, which is the amount we were looking for, for all variables. This is a solid indication that this data frame is ready to be used for analysis."
   ]
  },
  {
   "cell_type": "code",
   "execution_count": 82,
   "metadata": {},
   "outputs": [],
   "source": [
    "NYC_bool = df['department_name']=='New York City'\n",
    "NYC = df[NYC_bool]\n",
    "Philadelphia_bool = df['department_name']=='Philadelphia'\n",
    "PHI = df[Philadelphia_bool]\n",
    "WSH_bool = df['department_name']=='Washington, D.C.'\n",
    "WSH = df[WSH_bool]"
   ]
  },
  {
   "cell_type": "markdown",
   "metadata": {},
   "source": [
    "Repeat the previous steps used to create the Boston data frame, but do so for the cities of NYC, Philadelphia, and Washington, D.C.."
   ]
  },
  {
   "cell_type": "code",
   "execution_count": 83,
   "metadata": {},
   "outputs": [
    {
     "name": "stdout",
     "output_type": "stream",
     "text": [
      "<class 'pandas.core.frame.DataFrame'>\n",
      "Int64Index: 41 entries, 42 to 2802\n",
      "Data columns (total 17 columns):\n",
      " #   Column            Non-Null Count  Dtype  \n",
      "---  ------            --------------  -----  \n",
      " 0   ORI               41 non-null     object \n",
      " 1   year              41 non-null     int64  \n",
      " 2   department_name   41 non-null     object \n",
      " 3   total_pop         41 non-null     float64\n",
      " 4   homs_sum          41 non-null     float64\n",
      " 5   rape_sum          41 non-null     float64\n",
      " 6   rob_sum           41 non-null     float64\n",
      " 7   agg_ass_sum       41 non-null     float64\n",
      " 8   violent_crime     41 non-null     float64\n",
      " 9   months_reported   40 non-null     float64\n",
      " 10  violent_per_100k  41 non-null     float64\n",
      " 11  homs_per_100k     41 non-null     float64\n",
      " 12  rape_per_100k     41 non-null     float64\n",
      " 13  rob_per_100k      41 non-null     float64\n",
      " 14  agg_ass_per_100k  41 non-null     float64\n",
      " 15  source            1 non-null      object \n",
      " 16  url               1 non-null      object \n",
      "dtypes: float64(12), int64(1), object(4)\n",
      "memory usage: 5.8+ KB\n"
     ]
    }
   ],
   "source": [
    "NYC.info()"
   ]
  },
  {
   "cell_type": "markdown",
   "metadata": {},
   "source": [
    "Again inspect the New York data frame to make sure there were no missing values in any variables. It seems as though the standardized data has all 41 observations we are looking for."
   ]
  },
  {
   "cell_type": "code",
   "execution_count": 84,
   "metadata": {},
   "outputs": [
    {
     "name": "stdout",
     "output_type": "stream",
     "text": [
      "<class 'pandas.core.frame.DataFrame'>\n",
      "Int64Index: 41 entries, 48 to 2808\n",
      "Data columns (total 17 columns):\n",
      " #   Column            Non-Null Count  Dtype  \n",
      "---  ------            --------------  -----  \n",
      " 0   ORI               41 non-null     object \n",
      " 1   year              41 non-null     int64  \n",
      " 2   department_name   41 non-null     object \n",
      " 3   total_pop         41 non-null     float64\n",
      " 4   homs_sum          41 non-null     float64\n",
      " 5   rape_sum          41 non-null     float64\n",
      " 6   rob_sum           41 non-null     float64\n",
      " 7   agg_ass_sum       41 non-null     float64\n",
      " 8   violent_crime     41 non-null     float64\n",
      " 9   months_reported   40 non-null     float64\n",
      " 10  violent_per_100k  41 non-null     float64\n",
      " 11  homs_per_100k     41 non-null     float64\n",
      " 12  rape_per_100k     41 non-null     float64\n",
      " 13  rob_per_100k      41 non-null     float64\n",
      " 14  agg_ass_per_100k  41 non-null     float64\n",
      " 15  source            1 non-null      object \n",
      " 16  url               1 non-null      object \n",
      "dtypes: float64(12), int64(1), object(4)\n",
      "memory usage: 5.8+ KB\n"
     ]
    }
   ],
   "source": [
    "PHI.info()"
   ]
  },
  {
   "cell_type": "markdown",
   "metadata": {},
   "source": [
    "Again inspect the Philadelphia data frame to make sure there were no missing values in any variables. It seems as though the standardized data has all 41 observations we are looking for."
   ]
  },
  {
   "cell_type": "code",
   "execution_count": 85,
   "metadata": {},
   "outputs": [
    {
     "name": "stdout",
     "output_type": "stream",
     "text": [
      "<class 'pandas.core.frame.DataFrame'>\n",
      "Int64Index: 41 entries, 67 to 2827\n",
      "Data columns (total 17 columns):\n",
      " #   Column            Non-Null Count  Dtype  \n",
      "---  ------            --------------  -----  \n",
      " 0   ORI               41 non-null     object \n",
      " 1   year              41 non-null     int64  \n",
      " 2   department_name   41 non-null     object \n",
      " 3   total_pop         41 non-null     float64\n",
      " 4   homs_sum          41 non-null     float64\n",
      " 5   rape_sum          41 non-null     float64\n",
      " 6   rob_sum           41 non-null     float64\n",
      " 7   agg_ass_sum       41 non-null     float64\n",
      " 8   violent_crime     41 non-null     float64\n",
      " 9   months_reported   40 non-null     float64\n",
      " 10  violent_per_100k  41 non-null     float64\n",
      " 11  homs_per_100k     41 non-null     float64\n",
      " 12  rape_per_100k     41 non-null     float64\n",
      " 13  rob_per_100k      41 non-null     float64\n",
      " 14  agg_ass_per_100k  41 non-null     float64\n",
      " 15  source            1 non-null      object \n",
      " 16  url               1 non-null      object \n",
      "dtypes: float64(12), int64(1), object(4)\n",
      "memory usage: 5.8+ KB\n"
     ]
    }
   ],
   "source": [
    "WSH.info()"
   ]
  },
  {
   "cell_type": "markdown",
   "metadata": {},
   "source": [
    "Again inspect the Washington, D.C. data frame to make sure there were no missing values in any variables. It seems as though the standardized data has all 41 observations we are looking for."
   ]
  },
  {
   "cell_type": "code",
   "execution_count": 86,
   "metadata": {},
   "outputs": [],
   "source": [
    "BOS_vio = BOS['violent_per_100k']\n",
    "NYC_vio = NYC['violent_per_100k']\n",
    "PHI_vio = PHI['violent_per_100k']\n",
    "WSH_vio = WSH['violent_per_100k']\n",
    "year = BOS['year']"
   ]
  },
  {
   "cell_type": "markdown",
   "metadata": {},
   "source": [
    "The above block of code creates variables for violent crime by city, as well as tabulate the years. This information will help create visuals to check the distribution of crime through these four cities. We need to check if the data distribution is normal to start and visualizing violent crime rates will help us do so"
   ]
  },
  {
   "cell_type": "code",
   "execution_count": 87,
   "metadata": {},
   "outputs": [
    {
     "data": {
      "image/png": "[encoded data removed]",
      "text/plain": [
       "<Figure size 432x288 with 1 Axes>"
      ]
     },
     "metadata": {
      "needs_background": "light"
     },
     "output_type": "display_data"
    }
   ],
   "source": [
    "plt.plot(year, BOS_vio, label='BOS')\n",
    "plt.plot(year, NYC_vio, label='NYC')\n",
    "plt.plot(year, PHI_vio, label='PHI')\n",
    "plt.plot(year, WSH_vio, label='WSH')\n",
    "plt.legend()\n",
    "plt.title('Violent Crimes per 100K by Year')\n",
    "plt.xlabel('Year')\n",
    "plt.ylabel('Violent Crimes per 100K')\n",
    "plt.show()"
   ]
  },
  {
   "cell_type": "markdown",
   "metadata": {},
   "source": [
    "The above block of code is useful in constructing a visual plot to check for normality in violent crime distributions of the four selected cities. The first four lines of code place the data on the plot, followed by implementation of a legend, title, and axis labels. The output of the code shows that none of the four distributions are normal. Thus, we will use non-parametric tests on our distributions to find out whether or not the crime patterns are statistically different. We will establish a value for alpha (level of significance) at 0.05. This means any p-value from our hypothesis testing less than 0.05 will indicate a statistically significant result."
   ]
  },
  {
   "cell_type": "code",
   "execution_count": 88,
   "metadata": {},
   "outputs": [
    {
     "data": {
      "text/plain": [
       "RanksumsResult(statistic=1.3308209261014037, pvalue=0.18324794067099082)"
      ]
     },
     "execution_count": 88,
     "metadata": {},
     "output_type": "execute_result"
    }
   ],
   "source": [
    "from scipy.stats import ranksums\n",
    "ranksums(BOS_vio, NYC_vio)"
   ]
  },
  {
   "cell_type": "code",
   "execution_count": 89,
   "metadata": {},
   "outputs": [
    {
     "data": {
      "text/plain": [
       "RanksumsResult(statistic=3.445295986387954, pvalue=0.0005704343895293742)"
      ]
     },
     "execution_count": 89,
     "metadata": {},
     "output_type": "execute_result"
    }
   ],
   "source": [
    "ranksums(BOS_vio, PHI_vio)"
   ]
  },
  {
   "cell_type": "code",
   "execution_count": 90,
   "metadata": {},
   "outputs": [
    {
     "data": {
      "text/plain": [
       "RanksumsResult(statistic=-1.358642966368332, pvalue=0.17425975300303342)"
      ]
     },
     "execution_count": 90,
     "metadata": {},
     "output_type": "execute_result"
    }
   ],
   "source": [
    "ranksums(BOS_vio, WSH_vio)"
   ]
  },
  {
   "cell_type": "code",
   "execution_count": 91,
   "metadata": {},
   "outputs": [
    {
     "data": {
      "text/plain": [
       "RanksumsResult(statistic=1.2009847381890715, pvalue=0.22975712153276584)"
      ]
     },
     "execution_count": 91,
     "metadata": {},
     "output_type": "execute_result"
    }
   ],
   "source": [
    "ranksums(NYC_vio, PHI_vio)"
   ]
  },
  {
   "cell_type": "code",
   "execution_count": 92,
   "metadata": {},
   "outputs": [
    {
     "data": {
      "text/plain": [
       "RanksumsResult(statistic=5.754525328543004, pvalue=8.688557834553398e-09)"
      ]
     },
     "execution_count": 92,
     "metadata": {},
     "output_type": "execute_result"
    }
   ],
   "source": [
    "ranksums(WSH_vio, PHI_vio)"
   ]
  },
  {
   "cell_type": "code",
   "execution_count": 93,
   "metadata": {},
   "outputs": [
    {
     "data": {
      "text/plain": [
       "RanksumsResult(statistic=-1.9985498925076828, pvalue=0.04565707653682583)"
      ]
     },
     "execution_count": 93,
     "metadata": {},
     "output_type": "execute_result"
    }
   ],
   "source": [
    "ranksums(NYC_vio, WSH_vio)"
   ]
  },
  {
   "cell_type": "markdown",
   "metadata": {},
   "source": [
    "There are 6 blocks of code above. The first imports the required packages needed to perform the Wilcoxon Rank-sum test which is used to test for statistical differences and runs the first test. 6 tests are performed between each combination of cities (4 choose 2 in combinatorial terms). To identify any difference in distributions that are statistically significant, we look at the p-value in the output. Three of our tests can be identified to have a p-value of less than 0.05. Those include the distributions between BOS/PHI, WSH/PHI, and NYC/WSH. What this means is the hypothesis test performed (Wilcoxon Rank Sum test) has identified that these distributions are systematically different."
   ]
  },
  {
   "cell_type": "code",
   "execution_count": 94,
   "metadata": {},
   "outputs": [],
   "source": [
    "BOS_homicide = BOS['homs_per_100k']\n",
    "NYC_homicide = NYC['homs_per_100k']\n",
    "PHI_homicide = PHI['homs_per_100k']\n",
    "WSH_homicide = WSH['homs_per_100k']"
   ]
  },
  {
   "cell_type": "markdown",
   "metadata": {},
   "source": [
    "The above block of code creates variables for different types of violent crimes, which we can use to further analyze any discrepencies in distributions. This will give us greater insight into what makes a a city's trend in violent crime differ from another. Here we are setting up variables for homcides, but variables for rape, robberies, and aggravated assaults will also be tested. Since we know the distributions for the following cities tested can be considered statistically different, we are going to use these variables to see if there is any correlation between subsets of violent crime in the following cities (homicides, rapes, robberies, and aggravated assaults)."
   ]
  },
  {
   "cell_type": "code",
   "execution_count": 95,
   "metadata": {},
   "outputs": [],
   "source": [
    "from scipy.stats import spearmanr"
   ]
  },
  {
   "cell_type": "code",
   "execution_count": 96,
   "metadata": {},
   "outputs": [
    {
     "data": {
      "text/plain": [
       "SpearmanrResult(correlation=0.3595818815331011, pvalue=0.02093933822727681)"
      ]
     },
     "execution_count": 96,
     "metadata": {},
     "output_type": "execute_result"
    }
   ],
   "source": [
    "spearmanr(BOS_homicide, PHI_homicide)"
   ]
  },
  {
   "cell_type": "code",
   "execution_count": 97,
   "metadata": {},
   "outputs": [
    {
     "data": {
      "text/plain": [
       "SpearmanrResult(correlation=0.5566202090592335, pvalue=0.00015726482223188572)"
      ]
     },
     "execution_count": 97,
     "metadata": {},
     "output_type": "execute_result"
    }
   ],
   "source": [
    "spearmanr(NYC_homicide, WSH_homicide)"
   ]
  },
  {
   "cell_type": "code",
   "execution_count": 98,
   "metadata": {},
   "outputs": [
    {
     "data": {
      "text/plain": [
       "SpearmanrResult(correlation=0.71602787456446, pvalue=1.41653815443067e-07)"
      ]
     },
     "execution_count": 98,
     "metadata": {},
     "output_type": "execute_result"
    }
   ],
   "source": [
    "spearmanr(PHI_homicide, WSH_homicide)"
   ]
  },
  {
   "cell_type": "markdown",
   "metadata": {},
   "source": [
    "From the above three tests, one can see that all homicide trends between the differing cities were positively correlated. The correlation between homicide rates in NYC and WSH as well as PHI and WSH are quite high, both greater than 0.5, meanwhile, the rates between BOS and PHI are quite low, around 0.36. Further examination of other violent crime variables might show greater reason why these distributions are significantly different."
   ]
  },
  {
   "cell_type": "code",
   "execution_count": 99,
   "metadata": {},
   "outputs": [],
   "source": [
    "BOS_rape = BOS['rape_per_100k']\n",
    "NYC_rape = NYC['rape_per_100k']\n",
    "PHI_rape = PHI['rape_per_100k']\n",
    "WSH_rape = WSH['rape_per_100k']"
   ]
  },
  {
   "cell_type": "markdown",
   "metadata": {},
   "source": [
    "We repeat the process from homicide variable with a variable for rapers per 100k people in each city. We again will use these variables to conduct a spearman rank correlation test to see if the rape statistics by city can help explain the discrepancy in distributions of overall crime."
   ]
  },
  {
   "cell_type": "code",
   "execution_count": 100,
   "metadata": {},
   "outputs": [
    {
     "data": {
      "text/plain": [
       "SpearmanrResult(correlation=-0.504006968641115, pvalue=0.0007803676447431359)"
      ]
     },
     "execution_count": 100,
     "metadata": {},
     "output_type": "execute_result"
    }
   ],
   "source": [
    "spearmanr(BOS_rape, PHI_rape)"
   ]
  },
  {
   "cell_type": "code",
   "execution_count": 101,
   "metadata": {},
   "outputs": [
    {
     "data": {
      "text/plain": [
       "SpearmanrResult(correlation=0.6257839721254357, pvalue=1.212339535905043e-05)"
      ]
     },
     "execution_count": 101,
     "metadata": {},
     "output_type": "execute_result"
    }
   ],
   "source": [
    "spearmanr(NYC_rape, WSH_rape)"
   ]
  },
  {
   "cell_type": "code",
   "execution_count": 102,
   "metadata": {},
   "outputs": [
    {
     "data": {
      "text/plain": [
       "SpearmanrResult(correlation=-0.2418118466898955, pvalue=0.12771532497820604)"
      ]
     },
     "execution_count": 102,
     "metadata": {},
     "output_type": "execute_result"
    }
   ],
   "source": [
    "spearmanr(PHI_rape, WSH_rape)"
   ]
  },
  {
   "cell_type": "markdown",
   "metadata": {},
   "source": [
    "The results of our three tests show that BOS and PHI, as well as PHI and WSH, have negative correlation in their rape trends. This is helpful in understanding why the distributions may differ. The correlation for NYC and WSH is still quite high. We can continue testing other variables for greater insight."
   ]
  },
  {
   "cell_type": "code",
   "execution_count": 103,
   "metadata": {},
   "outputs": [],
   "source": [
    "BOS_rob = BOS['rob_per_100k']\n",
    "NYC_rob = NYC['rob_per_100k']\n",
    "PHI_rob = PHI['rob_per_100k']\n",
    "WSH_rob = WSH['rob_per_100k']"
   ]
  },
  {
   "cell_type": "code",
   "execution_count": 104,
   "metadata": {},
   "outputs": [
    {
     "data": {
      "text/plain": [
       "SpearmanrResult(correlation=0.0348432055749129, pvalue=0.8287762604741155)"
      ]
     },
     "execution_count": 104,
     "metadata": {},
     "output_type": "execute_result"
    }
   ],
   "source": [
    "spearmanr(BOS_rob, PHI_rob)"
   ]
  },
  {
   "cell_type": "code",
   "execution_count": 105,
   "metadata": {},
   "outputs": [
    {
     "data": {
      "text/plain": [
       "SpearmanrResult(correlation=0.8766550522648086, pvalue=5.828032887201455e-14)"
      ]
     },
     "execution_count": 105,
     "metadata": {},
     "output_type": "execute_result"
    }
   ],
   "source": [
    "spearmanr(NYC_rob, WSH_rob)"
   ]
  },
  {
   "cell_type": "code",
   "execution_count": 106,
   "metadata": {},
   "outputs": [
    {
     "data": {
      "text/plain": [
       "SpearmanrResult(correlation=0.2804878048780488, pvalue=0.07568251654273306)"
      ]
     },
     "execution_count": 106,
     "metadata": {},
     "output_type": "execute_result"
    }
   ],
   "source": [
    "spearmanr(PHI_rob, WSH_rob)"
   ]
  },
  {
   "cell_type": "markdown",
   "metadata": {},
   "source": [
    "The above blocks of code just run the test and again create more variables to help do so. These results show that the correlation for NYC robberies and WSH robberies is very high. In other words if the robberies per 100K individuals in NYC increased by 1 unit, you would expect robberies in WSH to increase by 0.8766. The correlations in PHI/WSH and BOS/PHI are still very low helping to explain any discrepancy. "
   ]
  },
  {
   "cell_type": "code",
   "execution_count": 107,
   "metadata": {},
   "outputs": [],
   "source": [
    "BOS_agg_ass = BOS['agg_ass_per_100k']\n",
    "NYC_agg_ass = NYC['agg_ass_per_100k']\n",
    "PHI_agg_ass = PHI['agg_ass_per_100k']\n",
    "WSH_agg_ass = WSH['agg_ass_per_100k']"
   ]
  },
  {
   "cell_type": "code",
   "execution_count": 108,
   "metadata": {},
   "outputs": [
    {
     "data": {
      "text/plain": [
       "SpearmanrResult(correlation=-0.04738675958188154, pvalue=0.7686011614114961)"
      ]
     },
     "execution_count": 108,
     "metadata": {},
     "output_type": "execute_result"
    }
   ],
   "source": [
    "spearmanr(BOS_agg_ass, PHI_agg_ass)"
   ]
  },
  {
   "cell_type": "code",
   "execution_count": 109,
   "metadata": {},
   "outputs": [
    {
     "data": {
      "text/plain": [
       "SpearmanrResult(correlation=0.48222996515679456, pvalue=0.0014091244912264854)"
      ]
     },
     "execution_count": 109,
     "metadata": {},
     "output_type": "execute_result"
    }
   ],
   "source": [
    "spearmanr(NYC_agg_ass, WSH_agg_ass)"
   ]
  },
  {
   "cell_type": "code",
   "execution_count": 110,
   "metadata": {},
   "outputs": [
    {
     "data": {
      "text/plain": [
       "SpearmanrResult(correlation=0.32229965156794427, pvalue=0.03986908275356428)"
      ]
     },
     "execution_count": 110,
     "metadata": {},
     "output_type": "execute_result"
    }
   ],
   "source": [
    "spearmanr(PHI_agg_ass, WSH_agg_ass)"
   ]
  },
  {
   "cell_type": "markdown",
   "metadata": {},
   "source": [
    "This is the last of the standardized violent crime variables available in the data set. We create the last set of variables and perform the last set of tests to further analyze the discrepencies found by the Wilcoxon Rank-sum test. We see negative and low correlations across the board. Viewing the head of the data, we see that there are far more robberies and aggravated assaults reported in the data set than rapes and homicides, that could explain some of the reason why we have seen some higher correlations, that the distribution may still differ statistically."
   ]
  },
  {
   "cell_type": "code",
   "execution_count": 111,
   "metadata": {},
   "outputs": [
    {
     "data": {
      "image/png": "[encoded data removed]",
      "text/plain": [
       "<Figure size 432x288 with 1 Axes>"
      ]
     },
     "metadata": {
      "needs_background": "light"
     },
     "output_type": "display_data"
    }
   ],
   "source": [
    "plt.plot(year, BOS_homicide, label='BOS')\n",
    "plt.plot(year, NYC_homicide, label='NYC')\n",
    "plt.plot(year, PHI_homicide, label='PHI')\n",
    "plt.plot(year, WSH_homicide, label='WSH')\n",
    "plt.legend()\n",
    "plt.title('Homicides per 100K by Year')\n",
    "plt.xlabel('Year')\n",
    "plt.ylabel('Homicides per 100K')\n",
    "plt.show()"
   ]
  },
  {
   "cell_type": "code",
   "execution_count": 112,
   "metadata": {},
   "outputs": [
    {
     "data": {
      "image/png": "[encoded data removed]",
      "text/plain": [
       "<Figure size 432x288 with 1 Axes>"
      ]
     },
     "metadata": {
      "needs_background": "light"
     },
     "output_type": "display_data"
    }
   ],
   "source": [
    "plt.plot(year, BOS_rape, label='BOS')\n",
    "plt.plot(year, NYC_rape, label='NYC')\n",
    "plt.plot(year, PHI_rape, label='PHI')\n",
    "plt.plot(year, WSH_rape, label='WSH')\n",
    "plt.legend()\n",
    "plt.title('Rapes per 100K by Year')\n",
    "plt.xlabel('Year')\n",
    "plt.ylabel('Rapes per 100K')\n",
    "plt.show()"
   ]
  },
  {
   "cell_type": "code",
   "execution_count": 113,
   "metadata": {},
   "outputs": [
    {
     "data": {
      "image/png": "[encoded data removed]",
      "text/plain": [
       "<Figure size 432x288 with 1 Axes>"
      ]
     },
     "metadata": {
      "needs_background": "light"
     },
     "output_type": "display_data"
    }
   ],
   "source": [
    "plt.plot(year, BOS_rob, label='BOS')\n",
    "plt.plot(year, NYC_rob, label='NYC')\n",
    "plt.plot(year, PHI_rob, label='PHI')\n",
    "plt.plot(year, WSH_rob, label='WSH')\n",
    "plt.legend()\n",
    "plt.title('Robberies per 100K by Year')\n",
    "plt.xlabel('Year')\n",
    "plt.ylabel('Robberies per 100K')\n",
    "plt.show()"
   ]
  },
  {
   "cell_type": "code",
   "execution_count": 114,
   "metadata": {},
   "outputs": [
    {
     "data": {
      "image/png": "[encoded data removed]",
      "text/plain": [
       "<Figure size 432x288 with 1 Axes>"
      ]
     },
     "metadata": {
      "needs_background": "light"
     },
     "output_type": "display_data"
    }
   ],
   "source": [
    "plt.plot(year, BOS_agg_ass, label='BOS')\n",
    "plt.plot(year, NYC_agg_ass, label='NYC')\n",
    "plt.plot(year, PHI_agg_ass, label='PHI')\n",
    "plt.plot(year, WSH_agg_ass, label='WSH')\n",
    "plt.legend()\n",
    "plt.title('Aggravated Assaults per 100K by Year')\n",
    "plt.xlabel('Year')\n",
    "plt.ylabel('Aggravated Assaults per 100K')\n",
    "plt.show()"
   ]
  },
  {
   "cell_type": "code",
   "execution_count": null,
   "metadata": {},
   "outputs": [],
   "source": []
  }
 ],
 "metadata": {
  "kernelspec": {
   "display_name": "Python 3",
   "language": "python",
   "name": "python3"
  },
  "language_info": {
   "codemirror_mode": {
    "name": "ipython",
    "version": 3
   },
   "file_extension": ".py",
   "mimetype": "text/x-python",
   "name": "python",
   "nbconvert_exporter": "python",
   "pygments_lexer": "ipython3",
   "version": "3.8.3"
  }
 },
 "nbformat": 4,
 "nbformat_minor": 4
}
